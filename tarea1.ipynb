{
 "cells": [
  {
   "cell_type": "markdown",
   "metadata": {},
   "source": [
    "# **TAREA N° 1**\n",
    "aprendizaje estadístico, regresión lineal"
   ]
  },
  {
   "cell_type": "code",
   "execution_count": null,
   "metadata": {},
   "outputs": [],
   "source": []
  },
  {
   "cell_type": "markdown",
   "metadata": {},
   "source": [
    "Curso:          Machine Learning para Macroeconomía y Finanzas  \n",
    "Profesor:       Josue Cox   "
   ]
  },
  {
   "cell_type": "markdown",
   "metadata": {},
   "source": [
    "- Fecha y hora de entrega: Miércoles 24 de enero, 11:59pm   \n",
    "- Nombres de integrantes del trabajo: **Emanuel Rojas** y **Joshua Quispe** "
   ]
  },
  {
   "cell_type": "markdown",
   "metadata": {},
   "source": [
    "## EJERCICIOS TEÓRICOS"
   ]
  },
  {
   "cell_type": "markdown",
   "metadata": {},
   "source": [
    "1. (2 puntos)  Para los siguientes enunciados, indique si se esperaría un mejor o peor desempeño (en términos del trade-off de varianza y sesgo) de un método de aprendizaje estadístico más flexible o menos flexible\n",
    "- 1.a. El tamaño de la muestra es grande y el número de predictores es pequeño\n",
    "- 1.b. El tamaño de predictores es grande y el tamaño de la muestra es grande\n",
    "- 1.c. La relación entre los predictores y la variable de respuesta es no-lineal\n",
    "- 1.d. La varianza del término de error es bastante alta"
   ]
  },
  {
   "cell_type": "code",
   "execution_count": null,
   "metadata": {},
   "outputs": [],
   "source": [
    "# 1.a. El tamaño de la muestra es grande y el número de predictores es pequeño"
   ]
  },
  {
   "cell_type": "code",
   "execution_count": null,
   "metadata": {},
   "outputs": [],
   "source": [
    "# 1.b. El tamaño de predictores es grande y el tamaño de la muestra es grande"
   ]
  },
  {
   "cell_type": "code",
   "execution_count": null,
   "metadata": {},
   "outputs": [],
   "source": [
    "# 1.c. La relación entre los predictores y la variable de respuesta es no-lineal"
   ]
  },
  {
   "cell_type": "code",
   "execution_count": null,
   "metadata": {},
   "outputs": [],
   "source": [
    "# 1.d. La varianza del término de error es bastante alta"
   ]
  },
  {
   "cell_type": "markdown",
   "metadata": {},
   "source": [
    "2. (2 puntos)  Grafique en una sola figura (puede usar cualquier editor de gráficos, ppt, o cualquier otro programa que prefieran) cinco curvas para un problema en donde el MSE se minimiza con una flexibilidad media:\n",
    "- Sesgo al cuadrado\n",
    "- Varianza\n",
    "- MSE en el conjunto de datos de entretenimiento\n",
    "- MSE en el conjunto de datos de prueba\n",
    "- El error irreducible\n",
    "\n",
    "En el eje-x debe de estar la flexibilidad y en el eje-y, los valores de cada una de estas curvas"
   ]
  },
  {
   "cell_type": "code",
   "execution_count": null,
   "metadata": {},
   "outputs": [],
   "source": [
    "#Solución"
   ]
  },
  {
   "cell_type": "markdown",
   "metadata": {},
   "source": [
    "3. (3 puntos)  : En esta pregunta entenderemos de forma simple cómo funciona el método de aproximación de K-vecinos-cercanos (KNN) en un entorno de clasificación. Tenemos seis observaciones de una muestra donde hay cuatro predictores y una variable de respuesta cualitativa (si el individuo está desempleado o no)\n",
    "\n",
    "| Obs. | Edad | Educación | Propietario Casa | Núm. hijos | Estado Laboral |\n",
    "| :---  | :----: | :----: | :----: | :----: |  ---: |\n",
    "|   1   |   18   |   1    |   0    |   0    |Empleado|\n",
    "|   2   |   25   |   2    |   0    |   1    |Empleado|\n",
    "|   3   |   36   |   2    |   0    |   2    |Desempleado|\n",
    "|   4   |   45   |   3    |   1    |   2    |Empleado|\n",
    "|   5   |   50   |   1    |   0    |   0    |Empleado|\n",
    "|   6   |   60   |   3    |   1    |   4    |Desempleado|\n",
    "\n",
    "Donde educación toma valor 1 si el individuo solo fue a primaria, toma valor 2 si fue a secundaria y toma valor 3 si tiene educación superior. La variable propietario casa toma el valor 0 si la persona no posee una casa (alquila) o valor 1 si es propietaria. \n",
    "Queremos saber si un individuo con 48 años, nivel educativo superior, que posee una casa y tiene 3 hijos tendrá más probabilidad de estar desempleado o empleado.\n",
    "\n",
    "- a. Encuentra la distancia euclidiana de cada observación con respecto al individuo que queremos considerar\n",
    "- b. ¿Cuál es la predicción si usamos un KKN con K=1? ¿Por qué?\n",
    "- c. ¿Cuál es la predicción si usamos un KKN con K=3? ¿Por qué?"
   ]
  },
  {
   "cell_type": "code",
   "execution_count": null,
   "metadata": {},
   "outputs": [],
   "source": [
    "#Solución"
   ]
  },
  {
   "cell_type": "markdown",
   "metadata": {},
   "source": [
    "4. (3 puntos)  Supongamos que tenemos una muestra con 5 predictores. X1 es la nota promedio del estudiante, X2 es el resultado de un test que mide el IQ del estudiante, X3 es el nivel educativo (1 es universitario y 0 es secundario), X4 es una interacción entre X1 y X2, X5 es una interacción entre X1 y X3. La variable de interés es el salario después de terminar la universidad en miles de soles. Tenemos los resultados al estimar un modelo con MCO:\n",
    "\n",
    "$$\\widehat{\\beta}_{0} = 50, \\widehat{\\beta}_{1} = 20, \\widehat{\\beta}_{2} = 0.07, \\widehat{\\beta}_{3} = 35, \\widehat{\\beta}_{4} = 0.01, \\widehat{\\beta}_{5} = -10$$\n",
    "\n",
    "* a. ¿Qué respuesta es verdadera? ¿Y por qué?\n",
    "\n",
    "    * i. Para un nivel dado de IQ y de notas, los graduados de secundaria ganan más, en promedio, que los graduados universitarios\n",
    "    * ii. Para un nivel dado de IQ y de notas, los graduados universitarios ganan más, en promedio, que los graduados de secundaria\n",
    "    * iii. Para un nivel dado de IQ y de notas, los graduados de secundaria ganan más, en promedio, que los graduados universitarios siempre que sus notas son mayores\n",
    "    * iv. Para un nivel dado de IQ y de notas, los graduados universitarios ganan más, en promedio, que los graduados de secundaria siempre que sus notas son mayores\n",
    "* b. Predecir el salario de un graduado universitario con un IQ de 110 y un nivel de notas de 4.0\n",
    "* c. Diga si es cierto que como el coeficiente de la interacción entre notas e IQ es pequeño, existe poca evidencia de algún efecto de dicha interacción"
   ]
  },
  {
   "cell_type": "code",
   "execution_count": null,
   "metadata": {},
   "outputs": [],
   "source": [
    "#Solución"
   ]
  },
  {
   "cell_type": "markdown",
   "metadata": {},
   "source": [
    "## EJERCICIOS PRÁCTICOS"
   ]
  },
  {
   "cell_type": "markdown",
   "metadata": {},
   "source": [
    "4. (3 puntos)  Supongamos que tenemos una muestra con 5 predictores. X1 es la nota promedio del estudiante, X2 es el resultado de un test que mide el IQ del estudiante, X3 es el nivel educativo (1 es universitario y 0 es secundario), X4 es una interacción entre X1 y X2, X5 es una interacción entre X1 y X3. La variable de interés es el salario después de terminar la universidad en miles de soles. Tenemos los resultados al estimar un modelo con MCO:"
   ]
  }
 ],
 "metadata": {
  "language_info": {
   "name": "python"
  }
 },
 "nbformat": 4,
 "nbformat_minor": 2
}
