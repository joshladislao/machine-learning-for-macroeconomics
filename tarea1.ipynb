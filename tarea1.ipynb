{
 "cells": [
  {
   "cell_type": "markdown",
   "metadata": {},
   "source": [
    "# **TAREA N° 1**\n",
    "aprendizaje estadístico, regresión lineal"
   ]
  },
  {
   "cell_type": "code",
   "execution_count": null,
   "metadata": {},
   "outputs": [],
   "source": []
  },
  {
   "cell_type": "markdown",
   "metadata": {},
   "source": [
    "Curso:          Machine Learning para Macroeconomía y Finanzas  \n",
    "Profesor:       Josue Cox   "
   ]
  },
  {
   "cell_type": "markdown",
   "metadata": {},
   "source": [
    "- Fecha y hora de entrega: Miércoles 24 de enero, 11:59pm   \n",
    "- Nombres de integrantes del trabajo: **Emanuel Rojas** y **Joshua Quispe** "
   ]
  },
  {
   "cell_type": "markdown",
   "metadata": {},
   "source": [
    "## EJERCICIOS TEÓRICOS"
   ]
  },
  {
   "cell_type": "markdown",
   "metadata": {},
   "source": [
    "1. (2 puntos)  Para los siguientes enunciados, indique si se esperaría un mejor o peor desempeño (en términos del trade-off de varianza y sesgo) de un método de aprendizaje estadístico más flexible o menos flexible\n",
    "- 1.a. El tamaño de la muestra es grande y el número de predictores es pequeño\n",
    "- 1.b. El tamaño de predictores es grande y el tamaño de la muestra es grande\n",
    "- 1.c. La relación entre los predictores y la variable de respuesta es no-lineal\n",
    "- 1.d. La varianza del término de error, $\\sigma^{2}=Var(\\varepsilon)$ es bastante alta"
   ]
  },
  {
   "cell_type": "code",
   "execution_count": null,
   "metadata": {},
   "outputs": [],
   "source": [
    "# 1.a. El tamaño de la muestra es grande y el número de predictores es pequeño"
   ]
  },
  {
   "cell_type": "code",
   "execution_count": null,
   "metadata": {},
   "outputs": [],
   "source": [
    "# 1.b. El tamaño de predictores es grande y el tamaño de la muestra es grande"
   ]
  },
  {
   "cell_type": "code",
   "execution_count": null,
   "metadata": {},
   "outputs": [],
   "source": [
    "# 1.c. La relación entre los predictores y la variable de respuesta es no-lineal"
   ]
  },
  {
   "cell_type": "code",
   "execution_count": null,
   "metadata": {},
   "outputs": [],
   "source": [
    "# 1.d. La varianza del término de error es bastante alta"
   ]
  },
  {
   "cell_type": "markdown",
   "metadata": {},
   "source": [
    "2. (2 puntos)  Grafique en una sola figura (puede usar cualquier editor de gráficos, ppt, o cualquier otro programa que prefieran) cinco curvas para un problema en donde el MSE se minimiza con una flexibilidad media:\n",
    "- Sesgo al cuadrado\n",
    "- Varianza\n",
    "- MSE en el conjunto de datos de entretenimiento\n",
    "- MSE en el conjunto de datos de prueba\n",
    "- El error irreducible\n",
    "\n",
    "En el eje-x debe de estar la flexibilidad y en el eje-y, los valores de cada una de estas curvas"
   ]
  },
  {
   "cell_type": "code",
   "execution_count": null,
   "metadata": {},
   "outputs": [],
   "source": [
    "#Solución"
   ]
  },
  {
   "cell_type": "markdown",
   "metadata": {},
   "source": [
    "3. (3 puntos)  : En esta pregunta entenderemos de forma simple cómo funciona el método de aproximación de K-vecinos-cercanos (KNN) en un entorno de clasificación. Tenemos seis observaciones de una muestra donde hay cuatro predictores y una variable de respuesta cualitativa (si el individuo está desempleado o no)\n",
    "\n",
    "| Obs. | Edad | Educación | Propietario Casa | Núm. hijos | Estado Laboral |\n",
    "| :---  | :----: | :----: | :----: | :----: |  ---: |\n",
    "|   1   |   18   |   1    |   0    |   0    |Empleado|\n",
    "|   2   |   25   |   2    |   0    |   1    |Empleado|\n",
    "|   3   |   36   |   2    |   0    |   2    |Desempleado|\n",
    "|   4   |   45   |   3    |   1    |   2    |Empleado|\n",
    "|   5   |   50   |   1    |   0    |   0    |Empleado|\n",
    "|   6   |   60   |   3    |   1    |   4    |Desempleado|\n",
    "\n",
    "Donde educación toma valor 1 si el individuo solo fue a primaria, toma valor 2 si fue a secundaria y toma valor 3 si tiene educación superior. La variable propietario casa toma el valor 0 si la persona no posee una casa (alquila) o valor 1 si es propietaria. \n",
    "Queremos saber si un individuo con 48 años, nivel educativo superior, que posee una casa y tiene 3 hijos tendrá más probabilidad de estar desempleado o empleado.\n",
    "\n",
    "- a. Encuentra la distancia euclidiana[^1] de cada observación con respecto al individuo que queremos considerar.\n",
    "\n",
    "- b. ¿Cuál es la predicción si usamos un KKN con K=1? ¿Por qué?\n",
    "\n",
    "- c. ¿Cuál es la predicción si usamos un KKN con K=3? ¿Por qué?\n",
    "\n",
    "[^1]: La distancia euclidiana entre dos vectores $x, y \\in R^{4}$ se define como $(d(x, y)=(x_{1}-y_{1})^2+...+(x_{4}-y_{4})^2)$\n",
    "\n",
    "\n"
   ]
  },
  {
   "cell_type": "code",
   "execution_count": null,
   "metadata": {},
   "outputs": [],
   "source": [
    "#Solución"
   ]
  },
  {
   "cell_type": "markdown",
   "metadata": {},
   "source": [
    "4. (3 puntos)  Supongamos que tenemos una muestra con 5 predictores. X1 es la nota promedio del estudiante, X2 es el resultado de un test que mide el IQ del estudiante, X3 es el nivel educativo (1 es universitario y 0 es secundario), X4 es una interacción entre X1 y X2, X5 es una interacción entre X1 y X3. La variable de interés es el salario después de terminar la universidad en miles de soles. Tenemos los resultados al estimar un modelo con MCO:\n",
    "\n",
    "$$\\widehat{\\beta}_{0} = 50, \\widehat{\\beta}_{1} = 20, \\widehat{\\beta}_{2} = 0.07, \\widehat{\\beta}_{3} = 35, \\widehat{\\beta}_{4} = 0.01, \\widehat{\\beta}_{5} = -10$$\n",
    "\n",
    "* a. ¿Qué respuesta es verdadera? ¿Y por qué?\n",
    "\n",
    "    * i. Para un nivel dado de IQ y de notas, los graduados de secundaria ganan más, en promedio, que los graduados universitarios\n",
    "    * ii. Para un nivel dado de IQ y de notas, los graduados universitarios ganan más, en promedio, que los graduados de secundaria\n",
    "    * iii. Para un nivel dado de IQ y de notas, los graduados de secundaria ganan más, en promedio, que los graduados universitarios siempre que sus notas son mayores\n",
    "    * iv. Para un nivel dado de IQ y de notas, los graduados universitarios ganan más, en promedio, que los graduados de secundaria siempre que sus notas son mayores\n",
    "* b. Predecir el salario de un graduado universitario con un IQ de 110 y un nivel de notas de 4.0\n",
    "* c. Diga si es cierto que como el coeficiente de la interacción entre notas e IQ es pequeño, existe poca evidencia de algún efecto de dicha interacción"
   ]
  },
  {
   "cell_type": "code",
   "execution_count": null,
   "metadata": {},
   "outputs": [],
   "source": [
    "#Solución"
   ]
  },
  {
   "cell_type": "markdown",
   "metadata": {},
   "source": [
    "## EJERCICIOS PRÁCTICOS"
   ]
  },
  {
   "cell_type": "markdown",
   "metadata": {},
   "source": [
    "6. (5 puntos)  Usando la API del Banco Central de Reserva del Perú, construya una base de datos (Pandas) con las siguientes variables para cada frecuencia de datos. Genere gráficos para cada una de ellas (Tip: pueden usar un for loop para generar los gráficos).\n",
    "\n",
    "* _Frecuencia Diaria_:\n",
    "\n",
    "    * 1.Tasa interbancaria (S/.)\n",
    "    * 2.Rendimiento del Bono del gobierno peruano a 10 años (en S/)\n",
    "    * 3.TC Interbancario (S/ por US$) – Compra\n",
    "    * 4.TC Interbancario (S/ por US$) – Venta\n",
    "    * 5.TC Euro (S/ por Euro) – Compra\n",
    "    * 6.TC Euro (S/ por Euro) – Venta \n",
    "    * 7.Índice General Bursátil BVL (índice)\n",
    "    * 8.Índice Selectivo Bursátil BVL (índice)\n",
    "    * 9.Monto negociado en acciones (millones S/) - Promedio diario\n",
    "    * 10.Cobre (Londres, cUS$ por libras)\n",
    "    * 11.Plata (H.Harman, US$ por onzas troy)\n",
    "    * 12.Zinc (Londres, cUS$ por libras)\n",
    "    * 13.Oro (Londres, US$ por onzas troy)\n",
    "    * 14.Petróleo (West Texas Intermediate, US$ por barriles)\n",
    "    * 15.Bonos del Tesoro EE.UU. - 5 años (%)\n",
    "    * 16.Bonos del Tesoro EE.UU. - 10 años (%)\n",
    "    * 17.Bonos del Tesoro EE.UU. - 30 años (%)\n",
    "    * 18.Spread - EMBIG Perú (pbs)\n",
    "    * 19.Spread - EMBIG América Latina (pbs)\n",
    "    * 20.Dow Jones (var%)\n",
    "\n",
    "* _Frecuencia Mensual_:\n",
    "\n",
    "    * 1.Exportaciones totales (Valores FOB en millones de US$)\n",
    "    * 2.Importaciones totales (Valores FOB en millones de US$)\n",
    "    * 3.Circulante (millones S/.)\n",
    "    * 4.Preferencia por Circulante (millones S/.)\n",
    "    * 5.Indicador de las empresas bancarias - Utilidad acumulada - Empresas Bancarias (millones S/.)\n",
    "    * 6.Liquidez de las empresas bancarias - Liquidez (millones S/.)\n",
    "    * 7.Liquidez de las empresas bancarias - Coeficiente de Dolarización de la Liquidez (%)\n",
    "    * 8.Índice de Precios al Consumidor (var% mensual)\n",
    "    * 9.índice de Precios al Consumidor Sin Alimentos y Energía (var% mensual)\n",
    "    * 10.índice de Precios al Consumidor Alimentos y Energía (var% mensual)\n",
    "    * 11.índice de Precios al Consumidor Subyacente (var% mensual)\n",
    "    * 12.Índice de Precios al Consumidor No Subyacente (var% mensual)\n",
    "    * 13.índice de Precios al por Mayor (var% mensual)\n",
    "    * 14.Expectativa de Inflación a 12 meses\n",
    "    * 15.Expectativa de PBI a 12 meses\n",
    "    * 16.Expectativa de TC a 12 meses\n",
    "    * 17.Producto bruto interno (índice 2007=100)\n",
    "    * 18.Producto bruto interno (variaciones porcentuales anualizadas)\n",
    "\n",
    "* _Frecuencia Trimestral_:\n",
    "\n",
    "    * 1._Índice de precio hedónicos de inmuebles_\n",
    "    * 2._Términos de Intercambio (2007=100)_\n",
    "    * 3._Producto bruto interno (índice 2007=100)_\n",
    "    * 4._Demanda Interna - Consumo Privado (millones 2007)_\n",
    "    * 5._Demanda Interna - Consumo Público (millones 2007)_\n",
    "    * 6._Demanda Interna - Inversión Bruta Interna (millones 2007)_\n",
    "    * 7._Demanda Interna - Exportaciones_\n",
    "    * 8._Demanda Interna - Importaciones (millones 2007)_\n",
    "    * 9._Venta de energía eléctrica total (gwh)_\n",
    "    * 10._Producción de energía eléctrica total (gwh)_\n"
   ]
  },
  {
   "cell_type": "code",
   "execution_count": null,
   "metadata": {},
   "outputs": [],
   "source": [
    "#Solución"
   ]
  },
  {
   "cell_type": "markdown",
   "metadata": {},
   "source": [
    "7. (5 puntos)  Para esta pregunta usará la base de datos (“AsientoBebe”). Esta base de datos contiene datos de ventas de asientos para bebes para carros en 400 mercados. Entre los predictores que tenemos en la base de datos se enumeran: (i) el precio promedio de la competencia [CompPrice], (ii) el ingreso promedio en miles el mercado o localidad [Income], (iii) el gasto en publicidad en cientos [Advertising], (iv) el número de personas en el mercado en miles [Population], (v) el precio de venta en dólares [Price], (vi) si la localidad o mercado es urbana o no [Urban], (vii) si el asiento se produce o no en los EEUU [US], entre otros.\n",
    "\n",
    "- 1.Estime un modelo de regresión múltiple para predecir las ventas [Sales] usando Price, Urban y US\n",
    "- 2.Dé una interpretación de cada uno de los coeficientes del modelo teniendo en cuenta que hay variables cualitativas\n",
    "- 3.¿Para cuáles predictores se puede rechazar la hipótesis nula de que $H_{0}:\\beta_{j}=0$?\n",
    "- 4.Estime un nuevo modelo usando solo las variables en la que los predictores tengan una asociación significativa con las ventas\n",
    "- 5.¿Qué tan bien los modelos en (1) y (4) ajustan los datos en términos de R_{adj}^{2}?\n",
    "- 6.Divida la muestra en una de entrenamiento y una de prueba o control. Estime los modelos en (1) y (4) y presente el MSE en la muestra de entrenamiento y prueba. ¿Cuál modelo usted eligiría?"
   ]
  }
 ],
 "metadata": {
  "language_info": {
   "name": "python"
  }
 },
 "nbformat": 4,
 "nbformat_minor": 2
}
